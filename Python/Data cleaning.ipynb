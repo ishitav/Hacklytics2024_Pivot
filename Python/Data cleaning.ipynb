{
 "cells": [
  {
   "cell_type": "code",
   "execution_count": 1,
   "id": "64c85516",
   "metadata": {},
   "outputs": [],
   "source": [
    "import requests\n",
    "import pandas as pd"
   ]
  },
  {
   "cell_type": "code",
   "execution_count": 24,
   "id": "ae111391",
   "metadata": {},
   "outputs": [
    {
     "name": "stdout",
     "output_type": "stream",
     "text": [
      "4792\n",
      "  STATE  ZONE  CWA                     NAME STATE_ZONE TIME_ZONE FE_AREA  \\\n",
      "0    NM   201  ABQ        Northwest Plateau      NM201         M      nw   \n",
      "1    NM   202  ABQ         Chuska Mountains      NM202         M      nw   \n",
      "2    NM   203  ABQ  Far Northwest Highlands      NM203         M      nc   \n",
      "3    NM   204  ABQ      Northwest Highlands      NM204         M      nc   \n",
      "4    NM   205  ABQ     West Central Plateau      NM205         M      wc   \n",
      "\n",
      "       LAT       LON  \n",
      "0  36.4270 -108.4064  \n",
      "1  36.0409 -108.9296  \n",
      "2  36.6585 -107.1028  \n",
      "3  36.0067 -107.5052  \n",
      "4  35.0288 -108.8170  \n"
     ]
    }
   ],
   "source": [
    "file_path = 'zone data.txt'\n",
    "\n",
    "# Reading the data into a pandas DataFrame\n",
    "#df = pd.read_csv(file_path, delimiter='|')\n",
    "col_names = ['STATE', 'ZONE', 'CWA', 'NAME', 'STATE_ZONE', 'COUNTY', 'FIPS', 'TIME_ZONE', 'FE_AREA', 'LAT', 'LON']\n",
    "df = pd.read_csv(file_path, delimiter='|', names=col_names)\n",
    "\n",
    "# Now you can work with the DataFrame (df)\n",
    "#print(df.head())\n",
    "# Drop specific columns\n",
    "columns_to_drop = ['COUNTY', 'FIPS']  # List of columns to drop\n",
    "df = df.drop(columns=columns_to_drop)\n",
    "print(df.shape[0])\n",
    "df = df.drop_duplicates()\n",
    "df = df.dropna()\n",
    "df = df.reset_index(drop=True)\n",
    "print(df.head())\n",
    "# Name\tDescription\n",
    "# STATE\tTwo character state abbreviation\n",
    "# ZONE\tThree character zone number\n",
    "# CWA\tThree character CWA ID (of the zone, starting with 01 May 2018 file)\n",
    "# NAME\tZone name\n",
    "# STATE_ZONE\t5 character state + three character zone number\n",
    "# COUNTY\tCounty name\n",
    "# FIPS\t5 character state-county FIPS code\n",
    "# TIME_ZONE\tTime zone of polygon (See comments on county page)\n",
    "# FE_AREA\tFeature Area (location in STATE - See comments on county page)\n",
    "# LAT\tLatitude of centroid of the zone\n",
    "# LON - longitutde of centroid of the zone\n",
    "df.to_csv('data.csv', index=False)\n"
   ]
  },
  {
   "cell_type": "code",
   "execution_count": null,
   "id": "6fdc61f2",
   "metadata": {},
   "outputs": [],
   "source": []
  }
 ],
 "metadata": {
  "kernelspec": {
   "display_name": "Python 3 (ipykernel)",
   "language": "python",
   "name": "python3"
  },
  "language_info": {
   "codemirror_mode": {
    "name": "ipython",
    "version": 3
   },
   "file_extension": ".py",
   "mimetype": "text/x-python",
   "name": "python",
   "nbconvert_exporter": "python",
   "pygments_lexer": "ipython3",
   "version": "3.11.4"
  }
 },
 "nbformat": 4,
 "nbformat_minor": 5
}
