{
 "cells": [
  {
   "cell_type": "code",
   "execution_count": 1,
   "id": "64c85516",
   "metadata": {},
   "outputs": [],
   "source": [
    "import requests\n",
    "import pandas as pd"
   ]
  },
  {
   "cell_type": "code",
   "execution_count": 13,
   "id": "ae111391",
   "metadata": {},
   "outputs": [],
   "source": [
    "file_path = 'zone data.txt'\n",
    "\n",
    "# Reading the data into a pandas DataFrame\n",
    "col_names = ['STATE', 'ZONE', 'CWA', 'NAME', 'STATE_ZONE', 'COUNTY', 'FIPS', 'TIME_ZONE', 'FE_AREA', 'LAT', 'LON']\n",
    "df = pd.read_csv(file_path, delimiter='|', names=col_names)\n",
    "\n",
    "#print(df.head(5))\n",
    "#print(\"num of dataframe rows\", df.shape[0])\n",
    "# unique_zones = df['NAME'].unique()\n",
    "# print(\"num of unique zones\", len(unique_zones))\n",
    "# if ('Baldwin Peninsula' in unique_zones):\n",
    "#     print(\"found\")\n",
    "#filtered_df = df[df['NAME'].isin(unique_zones)]\n",
    "#print(len(filtered_df))\n",
    "#print(unique_values)\n",
    "\n",
    "# Now you can work with the DataFrame (df)\n",
    "#print(df.head())\n",
    "# Drop specific columns\n",
    "columns_to_drop = ['COUNTY', 'FIPS']  # List of columns to drop\n",
    "df = df.drop_duplicates(subset=['NAME'])\n",
    "# unique_zones2 = df['NAME'].unique()\n",
    "# if ('Baldwin Peninsula' in unique_zones2):\n",
    "#     print(\"found\")\n",
    "df = df.drop(columns=columns_to_drop)\n",
    "# if ('Baldwin Peninsula' in unique_zones2):\n",
    "#     print(\"found\")\n",
    "# print(df.shape[0])\n",
    "#df = df.dropna()\n",
    "# print(df.shape[0])\n",
    "df = df.reset_index(drop=True)\n",
    "# print(df.shape[0])\n",
    "#print(df.head())\n",
    "# Name\tDescription\n",
    "# STATE\tTwo character state abbreviation\n",
    "# ZONE\tThree character zone number\n",
    "# CWA\tThree character CWA ID (of the zone, starting with 01 May 2018 file)\n",
    "# NAME\tZone name\n",
    "# STATE_ZONE\t5 character state + three character zone number\n",
    "# COUNTY\tCounty name\n",
    "# FIPS\t5 character state-county FIPS code\n",
    "# TIME_ZONE\tTime zone of polygon (See comments on county page)\n",
    "# FE_AREA\tFeature Area (location in STATE - See comments on county page)\n",
    "# LAT\tLatitude of centroid of the zone\n",
    "# LON - longitutde of centroid of the zone\n",
    "df.to_csv('clean zone data.csv', index=False)\n"
   ]
  },
  {
   "cell_type": "code",
   "execution_count": 14,
   "id": "77cb9e21",
   "metadata": {},
   "outputs": [
    {
     "name": "stdout",
     "output_type": "stream",
     "text": [
      "(2945, 9)\n"
     ]
    }
   ],
   "source": [
    "df2 = pd.read_csv('clean zone data.csv')\n",
    "print(df2.shape)"
   ]
  },
  {
   "cell_type": "code",
   "execution_count": null,
   "id": "6fdc61f2",
   "metadata": {},
   "outputs": [],
   "source": []
  }
 ],
 "metadata": {
  "kernelspec": {
   "display_name": "Python 3 (ipykernel)",
   "language": "python",
   "name": "python3"
  },
  "language_info": {
   "codemirror_mode": {
    "name": "ipython",
    "version": 3
   },
   "file_extension": ".py",
   "mimetype": "text/x-python",
   "name": "python",
   "nbconvert_exporter": "python",
   "pygments_lexer": "ipython3",
   "version": "3.11.4"
  }
 },
 "nbformat": 4,
 "nbformat_minor": 5
}
